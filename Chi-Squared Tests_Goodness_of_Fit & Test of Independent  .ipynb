{
 "cells": [
  {
   "cell_type": "code",
   "execution_count": 1,
   "id": "1914f1d6",
   "metadata": {},
   "outputs": [],
   "source": [
    "import numpy as np\n",
    "import pandas as pd\n",
    "import scipy.stats as stats"
   ]
  },
  {
   "cell_type": "code",
   "execution_count": 2,
   "id": "f0a34e1a",
   "metadata": {},
   "outputs": [
    {
     "name": "stdout",
     "output_type": "stream",
     "text": [
      "National_rep\n",
      "col_0      count\n",
      "0               \n",
      "asian      15000\n",
      "black      50000\n",
      "hispanic   60000\n",
      "other      35000\n",
      "white     100000\n",
      " \n",
      "Sample\n",
      "col_0     count\n",
      "0              \n",
      "asian        75\n",
      "black       250\n",
      "hispanic    300\n",
      "other       150\n",
      "white       600\n"
     ]
    }
   ],
   "source": [
    "# Generate data\n",
    "\n",
    "rep = pd.DataFrame([\"white\"]*100000 + [\"hispanic\"]*60000 + \\\n",
    "                   [\"black\"]*50000 + [\"asian\"]*15000 + [\"other\"]*35000)\n",
    "\n",
    "rep_table = pd.crosstab(index = rep [0], columns = \"count\")\n",
    "\n",
    "\n",
    "sample = pd.DataFrame([\"white\"]*600 + [\"hispanic\"]*300 + \\\n",
    "                   [\"black\"]*250 + [\"asian\"]*75 + [\"other\"]*150)\n",
    "\n",
    "sample_table = pd.crosstab(index = sample [0], columns = \"count\")\n",
    "\n",
    "print(\"National_rep\")\n",
    "print(rep_table)\n",
    "print(\" \")\n",
    "print(\"Sample\")\n",
    "print(sample_table)"
   ]
  },
  {
   "cell_type": "code",
   "execution_count": 3,
   "id": "e6f90647",
   "metadata": {},
   "outputs": [],
   "source": [
    "# -----------1. Chi-Squred Goodness-of-Fit Test----------------\n",
    "# To check whether the distribution of the population across different categories is the same for the sample"
   ]
  },
  {
   "cell_type": "code",
   "execution_count": 4,
   "id": "02313592",
   "metadata": {
    "scrolled": false
   },
   "outputs": [
    {
     "name": "stdout",
     "output_type": "stream",
     "text": [
      "col_0        count\n",
      "0                 \n",
      "asian     0.057692\n",
      "black     0.192308\n",
      "hispanic  0.230769\n",
      "other     0.134615\n",
      "white     0.384615\n"
     ]
    },
    {
     "data": {
      "text/plain": [
       "Power_divergenceResult(statistic=array([18.19480519]), pvalue=array([0.00113047]))"
      ]
     },
     "execution_count": 4,
     "metadata": {},
     "output_type": "execute_result"
    }
   ],
   "source": [
    "# Chi-Squred Goodness-of-Fit Test - Using scipy.stats.chisquare()\n",
    "\n",
    "observed = sample_table\n",
    "\n",
    "rep_ratios = rep_table/len(rep)\n",
    "\n",
    "print(rep_ratios)\n",
    "\n",
    "expected = rep_ratios * len(sample) # Get expected counts\n",
    "\n",
    "stats.chisquare(f_obs = observed, f_exp = expected) \n",
    "\n",
    "# chi-squared test statistics = 18.19 \n",
    "# p-value = 0.001 - Reject the null hypothesis: the two distributions are different"
   ]
  },
  {
   "cell_type": "code",
   "execution_count": 5,
   "id": "da6d3b00",
   "metadata": {},
   "outputs": [],
   "source": [
    "# -----------2.Chi-Squared Test of Independence \n",
    "# To check whether two categorical variables are independent"
   ]
  },
  {
   "cell_type": "code",
   "execution_count": 6,
   "id": "582ebd3c",
   "metadata": {},
   "outputs": [
    {
     "data": {
      "text/html": [
       "<div>\n",
       "<style scoped>\n",
       "    .dataframe tbody tr th:only-of-type {\n",
       "        vertical-align: middle;\n",
       "    }\n",
       "\n",
       "    .dataframe tbody tr th {\n",
       "        vertical-align: top;\n",
       "    }\n",
       "\n",
       "    .dataframe thead th {\n",
       "        text-align: right;\n",
       "    }\n",
       "</style>\n",
       "<table border=\"1\" class=\"dataframe\">\n",
       "  <thead>\n",
       "    <tr style=\"text-align: right;\">\n",
       "      <th></th>\n",
       "      <th>democrat</th>\n",
       "      <th>independent</th>\n",
       "      <th>republican</th>\n",
       "      <th>row_total</th>\n",
       "    </tr>\n",
       "  </thead>\n",
       "  <tbody>\n",
       "    <tr>\n",
       "      <th>asian</th>\n",
       "      <td>21</td>\n",
       "      <td>7</td>\n",
       "      <td>32</td>\n",
       "      <td>60</td>\n",
       "    </tr>\n",
       "    <tr>\n",
       "      <th>black</th>\n",
       "      <td>65</td>\n",
       "      <td>25</td>\n",
       "      <td>64</td>\n",
       "      <td>154</td>\n",
       "    </tr>\n",
       "    <tr>\n",
       "      <th>hispanic</th>\n",
       "      <td>107</td>\n",
       "      <td>50</td>\n",
       "      <td>94</td>\n",
       "      <td>251</td>\n",
       "    </tr>\n",
       "    <tr>\n",
       "      <th>other</th>\n",
       "      <td>15</td>\n",
       "      <td>8</td>\n",
       "      <td>15</td>\n",
       "      <td>38</td>\n",
       "    </tr>\n",
       "    <tr>\n",
       "      <th>white</th>\n",
       "      <td>189</td>\n",
       "      <td>96</td>\n",
       "      <td>212</td>\n",
       "      <td>497</td>\n",
       "    </tr>\n",
       "    <tr>\n",
       "      <th>col_totals</th>\n",
       "      <td>397</td>\n",
       "      <td>186</td>\n",
       "      <td>417</td>\n",
       "      <td>1000</td>\n",
       "    </tr>\n",
       "  </tbody>\n",
       "</table>\n",
       "</div>"
      ],
      "text/plain": [
       "            democrat  independent  republican  row_total\n",
       "asian             21            7          32         60\n",
       "black             65           25          64        154\n",
       "hispanic         107           50          94        251\n",
       "other             15            8          15         38\n",
       "white            189           96         212        497\n",
       "col_totals       397          186         417       1000"
      ]
     },
     "execution_count": 6,
     "metadata": {},
     "output_type": "execute_result"
    }
   ],
   "source": [
    "# Generate data\n",
    "\n",
    "np.random.seed(10)\n",
    "\n",
    "# Sample data randomly at fixed probabilities\n",
    "voter_race = np.random.choice (a = [\"asian\", \"black\", \"hispanic\",\"other\", \"white\"],\n",
    "                               p = [0.05, 0.15, 0.25, 0.05, 0.5],\n",
    "                               size = 1000)\n",
    "\n",
    "# Sample data randomly at fixed probabilities\n",
    "voter_party = np.random.choice (a = [\"democrat\", \"independent\", \"republican\"],\n",
    "                               p = [0.4, 0.2, 0.4],\n",
    "                               size = 1000)\n",
    "\n",
    "voters = pd.DataFrame({\"race\":voter_race,\n",
    "                      \"party\":voter_party})\n",
    "\n",
    "voter_tab = pd.crosstab(voters.race, voters.party, margins = True)\n",
    "\n",
    "voter_tab.columns = [\"democrat\", \"independent\", \"republican\", \"row_total\"]\n",
    "\n",
    "voter_tab.index = [\"asian\", \"black\", \"hispanic\",\"other\", \"white\", \"col_totals\"]\n",
    "\n",
    "observed = voter_tab.iloc[0:5, 0:3] # actual counts\n",
    "voter_tab"
   ]
  },
  {
   "cell_type": "code",
   "execution_count": 7,
   "id": "9a22fb71",
   "metadata": {},
   "outputs": [
    {
     "data": {
      "text/plain": [
       "(7.169321280162059,\n",
       " 0.518479392948842,\n",
       " 8,\n",
       " array([[ 23.82 ,  11.16 ,  25.02 ],\n",
       "        [ 61.138,  28.644,  64.218],\n",
       "        [ 99.647,  46.686, 104.667],\n",
       "        [ 15.086,   7.068,  15.846],\n",
       "        [197.309,  92.442, 207.249]]))"
      ]
     },
     "execution_count": 7,
     "metadata": {},
     "output_type": "execute_result"
    }
   ],
   "source": [
    "# Chi-Squared Test of Independence - Using stats.chi2.contingenct()\n",
    "\n",
    "stats.chi2_contingency(observed = observed)\n",
    "\n",
    "# chi-squared statistics = 7.16\n",
    "# p-value = 0.51  - Fail to reject null hypothesis\n",
    "# df = (5-1) * (3-1) = 4 * 2 = 8 \n",
    "# array shows the expected counts"
   ]
  }
 ],
 "metadata": {
  "kernelspec": {
   "display_name": "Python 3 (ipykernel)",
   "language": "python",
   "name": "python3"
  },
  "language_info": {
   "codemirror_mode": {
    "name": "ipython",
    "version": 3
   },
   "file_extension": ".py",
   "mimetype": "text/x-python",
   "name": "python",
   "nbconvert_exporter": "python",
   "pygments_lexer": "ipython3",
   "version": "3.10.4"
  }
 },
 "nbformat": 4,
 "nbformat_minor": 5
}
