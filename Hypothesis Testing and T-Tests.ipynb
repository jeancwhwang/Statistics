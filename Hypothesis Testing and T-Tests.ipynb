{
 "cells": [
  {
   "cell_type": "code",
   "execution_count": 1,
   "id": "f888b53e",
   "metadata": {},
   "outputs": [],
   "source": [
    "%matplotlib inline \n",
    "\n",
    "import numpy as np\n",
    "import pandas as pd\n",
    "import scipy.stats as stats\n",
    "import matplotlib.pyplot as plt\n",
    "import math"
   ]
  },
  {
   "cell_type": "code",
   "execution_count": null,
   "id": "0ddad184",
   "metadata": {},
   "outputs": [],
   "source": [
    "# 1. ONE-SAMPLE T-TEST: \n",
    "# To check whether a sample mean differs from the population means"
   ]
  },
  {
   "cell_type": "code",
   "execution_count": 2,
   "id": "6c3442c8",
   "metadata": {},
   "outputs": [
    {
     "name": "stdout",
     "output_type": "stream",
     "text": [
      "48.140930602625325\n",
      "25.052334460090407\n"
     ]
    }
   ],
   "source": [
    "# Generate data\n",
    "\n",
    "pop = np.random.normal(48, 35, 150000)\n",
    "sample = np.random.normal(25, 10, 200)\n",
    "\n",
    "print(pop.mean())\n",
    "print(sample.mean())"
   ]
  },
  {
   "cell_type": "code",
   "execution_count": 3,
   "id": "e43125c6",
   "metadata": {},
   "outputs": [
    {
     "data": {
      "text/plain": [
       "Ttest_1sampResult(statistic=-31.51295063616169, pvalue=2.723931244013571e-79)"
      ]
     },
     "execution_count": 3,
     "metadata": {},
     "output_type": "execute_result"
    }
   ],
   "source": [
    "# Conduct a t-test at a 95% confidence level - Using stats.ttest_1samp()\n",
    "# Fail to reject the null hypothesis\n",
    "\n",
    "stats.ttest_1samp(sample, pop.mean()) # (sample data, Pop mean)\n"
   ]
  },
  {
   "cell_type": "code",
   "execution_count": null,
   "id": "d190d664",
   "metadata": {},
   "outputs": [],
   "source": [
    "# 2. TWO-SAMPLE T-TEST\n",
    "# To check whether the means of two indepent samples differ from one another"
   ]
  },
  {
   "cell_type": "code",
   "execution_count": 5,
   "id": "5c4d3f89",
   "metadata": {},
   "outputs": [
    {
     "name": "stdout",
     "output_type": "stream",
     "text": [
      "18.504320351865278\n",
      "13.959900038357992\n"
     ]
    }
   ],
   "source": [
    "# Generate data\n",
    "\n",
    "sample_1 = np.random.normal(18, 33, 30)\n",
    "sample_2 = np.random.normal(18, 13, 20)\n",
    "\n",
    "print(sample_1.mean())\n",
    "print(sample_2.mean())"
   ]
  },
  {
   "cell_type": "code",
   "execution_count": 6,
   "id": "907c0bc5",
   "metadata": {},
   "outputs": [
    {
     "data": {
      "text/plain": [
       "Ttest_indResult(statistic=0.7207080944497771, pvalue=0.47543173860330656)"
      ]
     },
     "execution_count": 6,
     "metadata": {},
     "output_type": "execute_result"
    }
   ],
   "source": [
    "# Conduct two-sample t-test at a 95% confidence level - Using stats.ttest_ind() \n",
    "# Fail to reject the null hypothesis\n",
    "\n",
    "\n",
    "stats.ttest_ind(sample_1, sample_2, equal_var=False)  # Assume samples have equal variance?"
   ]
  },
  {
   "cell_type": "code",
   "execution_count": null,
   "id": "db749ccf",
   "metadata": {},
   "outputs": [],
   "source": [
    "# 3. Paired T-Test\n",
    "# To check whether the means of samples from the same group differ"
   ]
  },
  {
   "cell_type": "code",
   "execution_count": 8,
   "id": "1447eb56",
   "metadata": {
    "scrolled": true
   },
   "outputs": [
    {
     "data": {
      "text/html": [
       "<div>\n",
       "<style scoped>\n",
       "    .dataframe tbody tr th:only-of-type {\n",
       "        vertical-align: middle;\n",
       "    }\n",
       "\n",
       "    .dataframe tbody tr th {\n",
       "        vertical-align: top;\n",
       "    }\n",
       "\n",
       "    .dataframe thead th {\n",
       "        text-align: right;\n",
       "    }\n",
       "</style>\n",
       "<table border=\"1\" class=\"dataframe\">\n",
       "  <thead>\n",
       "    <tr style=\"text-align: right;\">\n",
       "      <th></th>\n",
       "      <th>weight_before</th>\n",
       "      <th>weight_after</th>\n",
       "      <th>weight_change</th>\n",
       "    </tr>\n",
       "  </thead>\n",
       "  <tbody>\n",
       "    <tr>\n",
       "      <th>count</th>\n",
       "      <td>100.000000</td>\n",
       "      <td>100.000000</td>\n",
       "      <td>100.000000</td>\n",
       "    </tr>\n",
       "    <tr>\n",
       "      <th>mean</th>\n",
       "      <td>250.345546</td>\n",
       "      <td>249.115171</td>\n",
       "      <td>-1.230375</td>\n",
       "    </tr>\n",
       "    <tr>\n",
       "      <th>std</th>\n",
       "      <td>28.132539</td>\n",
       "      <td>28.422183</td>\n",
       "      <td>4.783696</td>\n",
       "    </tr>\n",
       "    <tr>\n",
       "      <th>min</th>\n",
       "      <td>170.400443</td>\n",
       "      <td>165.913930</td>\n",
       "      <td>-11.495286</td>\n",
       "    </tr>\n",
       "    <tr>\n",
       "      <th>25%</th>\n",
       "      <td>230.421042</td>\n",
       "      <td>229.148236</td>\n",
       "      <td>-4.046211</td>\n",
       "    </tr>\n",
       "    <tr>\n",
       "      <th>50%</th>\n",
       "      <td>250.830805</td>\n",
       "      <td>251.134089</td>\n",
       "      <td>-1.413463</td>\n",
       "    </tr>\n",
       "    <tr>\n",
       "      <th>75%</th>\n",
       "      <td>270.637145</td>\n",
       "      <td>268.927258</td>\n",
       "      <td>1.738673</td>\n",
       "    </tr>\n",
       "    <tr>\n",
       "      <th>max</th>\n",
       "      <td>314.700233</td>\n",
       "      <td>316.720357</td>\n",
       "      <td>9.759282</td>\n",
       "    </tr>\n",
       "  </tbody>\n",
       "</table>\n",
       "</div>"
      ],
      "text/plain": [
       "       weight_before  weight_after  weight_change\n",
       "count     100.000000    100.000000     100.000000\n",
       "mean      250.345546    249.115171      -1.230375\n",
       "std        28.132539     28.422183       4.783696\n",
       "min       170.400443    165.913930     -11.495286\n",
       "25%       230.421042    229.148236      -4.046211\n",
       "50%       250.830805    251.134089      -1.413463\n",
       "75%       270.637145    268.927258       1.738673\n",
       "max       314.700233    316.720357       9.759282"
      ]
     },
     "execution_count": 8,
     "metadata": {},
     "output_type": "execute_result"
    }
   ],
   "source": [
    "# Generate data\n",
    "\n",
    "np.random.seed(11)\n",
    "\n",
    "before = stats.norm.rvs(scale=30, loc=250, size=100)\n",
    "\n",
    "after = before + stats.norm.rvs(scale=5, loc=-1.25, size=100)\n",
    "\n",
    "weight_df = pd.DataFrame({\"weight_before\":before,\n",
    "                          \"weight_after\":after,\n",
    "                          \"weight_change\":after-before})\n",
    "\n",
    "weight_df.describe() # Check a summary table"
   ]
  },
  {
   "cell_type": "code",
   "execution_count": 9,
   "id": "ddf525cd",
   "metadata": {},
   "outputs": [
    {
     "data": {
      "text/plain": [
       "Ttest_relResult(statistic=2.5720175998568284, pvalue=0.011596444318439859)"
      ]
     },
     "execution_count": 9,
     "metadata": {},
     "output_type": "execute_result"
    }
   ],
   "source": [
    "# Conduct paired t-test at a 95% confidence level - Using stats.ttest_rel() \n",
    "# Reject the null hypothesis. Patients significantly lost 1.23 pounds after the treatment.  \n",
    "\n",
    "stats.ttest_rel(before, after)"
   ]
  }
 ],
 "metadata": {
  "kernelspec": {
   "display_name": "Python 3 (ipykernel)",
   "language": "python",
   "name": "python3"
  },
  "language_info": {
   "codemirror_mode": {
    "name": "ipython",
    "version": 3
   },
   "file_extension": ".py",
   "mimetype": "text/x-python",
   "name": "python",
   "nbconvert_exporter": "python",
   "pygments_lexer": "ipython3",
   "version": "3.10.4"
  }
 },
 "nbformat": 4,
 "nbformat_minor": 5
}
